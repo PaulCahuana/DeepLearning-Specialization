{
 "cells": [
  {
   "cell_type": "markdown",
   "metadata": {},
   "source": []
  },
  {
   "cell_type": "code",
   "execution_count": 1,
   "metadata": {},
   "outputs": [],
   "source": [
    "import pandas as pd"
   ]
  },
  {
   "cell_type": "code",
   "execution_count": 2,
   "metadata": {},
   "outputs": [],
   "source": [
    "df=pd.read_csv(\"Daily_Demand_Forecasting_Orders.csv\")"
   ]
  },
  {
   "cell_type": "code",
   "execution_count": 3,
   "metadata": {},
   "outputs": [
    {
     "data": {
      "text/html": [
       "<div>\n",
       "<style scoped>\n",
       "    .dataframe tbody tr th:only-of-type {\n",
       "        vertical-align: middle;\n",
       "    }\n",
       "\n",
       "    .dataframe tbody tr th {\n",
       "        vertical-align: top;\n",
       "    }\n",
       "\n",
       "    .dataframe thead th {\n",
       "        text-align: right;\n",
       "    }\n",
       "</style>\n",
       "<table border=\"1\" class=\"dataframe\">\n",
       "  <thead>\n",
       "    <tr style=\"text-align: right;\">\n",
       "      <th></th>\n",
       "      <th>Week of the month (first week</th>\n",
       "      <th>second</th>\n",
       "      <th>third</th>\n",
       "      <th>fourth or fifth week;Day of the week (Monday to Friday);Non-urgent order;Urgent order;Order type A;Order type B;Order type C;Fiscal sector orders;Orders from the traffic controller sector;Banking orders (1);Banking orders (2);Banking orders (3);Target (Total orders)</th>\n",
       "    </tr>\n",
       "  </thead>\n",
       "  <tbody>\n",
       "    <tr>\n",
       "      <th>0</th>\n",
       "      <td>1;4;316.307;223.270;61.543;175.586;302.448;0;6...</td>\n",
       "      <td>NaN</td>\n",
       "      <td>NaN</td>\n",
       "      <td>NaN</td>\n",
       "    </tr>\n",
       "    <tr>\n",
       "      <th>1</th>\n",
       "      <td>1;5;128.633;96.042;38.058;56.037;130.580;0;404...</td>\n",
       "      <td>NaN</td>\n",
       "      <td>NaN</td>\n",
       "      <td>NaN</td>\n",
       "    </tr>\n",
       "    <tr>\n",
       "      <th>2</th>\n",
       "      <td>1;6;43.651;84.375;21.826;25.125;82.461;1.386;1...</td>\n",
       "      <td>NaN</td>\n",
       "      <td>NaN</td>\n",
       "      <td>NaN</td>\n",
       "    </tr>\n",
       "    <tr>\n",
       "      <th>3</th>\n",
       "      <td>2;2;171.297;127.667;41.542;113.294;162.284;18....</td>\n",
       "      <td>NaN</td>\n",
       "      <td>NaN</td>\n",
       "      <td>NaN</td>\n",
       "    </tr>\n",
       "    <tr>\n",
       "      <th>4</th>\n",
       "      <td>2;3;90.532;113.526;37.679;56.618;116.220;6.459...</td>\n",
       "      <td>NaN</td>\n",
       "      <td>NaN</td>\n",
       "      <td>NaN</td>\n",
       "    </tr>\n",
       "  </tbody>\n",
       "</table>\n",
       "</div>"
      ],
      "text/plain": [
       "                       Week of the month (first week   second   third  \\\n",
       "0  1;4;316.307;223.270;61.543;175.586;302.448;0;6...      NaN     NaN   \n",
       "1  1;5;128.633;96.042;38.058;56.037;130.580;0;404...      NaN     NaN   \n",
       "2  1;6;43.651;84.375;21.826;25.125;82.461;1.386;1...      NaN     NaN   \n",
       "3  2;2;171.297;127.667;41.542;113.294;162.284;18....      NaN     NaN   \n",
       "4  2;3;90.532;113.526;37.679;56.618;116.220;6.459...      NaN     NaN   \n",
       "\n",
       "    fourth or fifth week;Day of the week (Monday to Friday);Non-urgent order;Urgent order;Order type A;Order type B;Order type C;Fiscal sector orders;Orders from the traffic controller sector;Banking orders (1);Banking orders (2);Banking orders (3);Target (Total orders)  \n",
       "0                                                NaN                                                                                                                                                                                                                            \n",
       "1                                                NaN                                                                                                                                                                                                                            \n",
       "2                                                NaN                                                                                                                                                                                                                            \n",
       "3                                                NaN                                                                                                                                                                                                                            \n",
       "4                                                NaN                                                                                                                                                                                                                            "
      ]
     },
     "execution_count": 3,
     "metadata": {},
     "output_type": "execute_result"
    }
   ],
   "source": [
    "df.head()"
   ]
  },
  {
   "cell_type": "code",
   "execution_count": 4,
   "metadata": {},
   "outputs": [],
   "source": [
    "data = pd.DataFrame(df['Week of the month (first week'].str.split(';',13).tolist(),\n",
    "                    columns = \n",
    "                    ['fourth','Day_of_the_week','Non-urgent-order',\n",
    "                     'Urgent-order','OrderA','OrderB','OrderC','Fiscal','traffic-orders',\n",
    "                     'Banking-orders-1','Banking-orders-2','Banking-orders-3','target'])"
   ]
  },
  {
   "cell_type": "code",
   "execution_count": 5,
   "metadata": {},
   "outputs": [
    {
     "data": {
      "text/html": [
       "<div>\n",
       "<style scoped>\n",
       "    .dataframe tbody tr th:only-of-type {\n",
       "        vertical-align: middle;\n",
       "    }\n",
       "\n",
       "    .dataframe tbody tr th {\n",
       "        vertical-align: top;\n",
       "    }\n",
       "\n",
       "    .dataframe thead th {\n",
       "        text-align: right;\n",
       "    }\n",
       "</style>\n",
       "<table border=\"1\" class=\"dataframe\">\n",
       "  <thead>\n",
       "    <tr style=\"text-align: right;\">\n",
       "      <th></th>\n",
       "      <th>fourth</th>\n",
       "      <th>Day_of_the_week</th>\n",
       "      <th>Non-urgent-order</th>\n",
       "      <th>Urgent-order</th>\n",
       "      <th>OrderA</th>\n",
       "      <th>OrderB</th>\n",
       "      <th>OrderC</th>\n",
       "      <th>Fiscal</th>\n",
       "      <th>traffic-orders</th>\n",
       "      <th>Banking-orders-1</th>\n",
       "      <th>Banking-orders-2</th>\n",
       "      <th>Banking-orders-3</th>\n",
       "      <th>target</th>\n",
       "    </tr>\n",
       "  </thead>\n",
       "  <tbody>\n",
       "    <tr>\n",
       "      <th>0</th>\n",
       "      <td>1</td>\n",
       "      <td>4</td>\n",
       "      <td>316.307</td>\n",
       "      <td>223.270</td>\n",
       "      <td>61.543</td>\n",
       "      <td>175.586</td>\n",
       "      <td>302.448</td>\n",
       "      <td>0</td>\n",
       "      <td>65556</td>\n",
       "      <td>44914</td>\n",
       "      <td>188411</td>\n",
       "      <td>14793</td>\n",
       "      <td>539.577</td>\n",
       "    </tr>\n",
       "    <tr>\n",
       "      <th>1</th>\n",
       "      <td>1</td>\n",
       "      <td>5</td>\n",
       "      <td>128.633</td>\n",
       "      <td>96.042</td>\n",
       "      <td>38.058</td>\n",
       "      <td>56.037</td>\n",
       "      <td>130.580</td>\n",
       "      <td>0</td>\n",
       "      <td>40419</td>\n",
       "      <td>21399</td>\n",
       "      <td>89461</td>\n",
       "      <td>7679</td>\n",
       "      <td>224.675</td>\n",
       "    </tr>\n",
       "    <tr>\n",
       "      <th>2</th>\n",
       "      <td>1</td>\n",
       "      <td>6</td>\n",
       "      <td>43.651</td>\n",
       "      <td>84.375</td>\n",
       "      <td>21.826</td>\n",
       "      <td>25.125</td>\n",
       "      <td>82.461</td>\n",
       "      <td>1.386</td>\n",
       "      <td>11992</td>\n",
       "      <td>3452</td>\n",
       "      <td>21305</td>\n",
       "      <td>14947</td>\n",
       "      <td>129.412</td>\n",
       "    </tr>\n",
       "    <tr>\n",
       "      <th>3</th>\n",
       "      <td>2</td>\n",
       "      <td>2</td>\n",
       "      <td>171.297</td>\n",
       "      <td>127.667</td>\n",
       "      <td>41.542</td>\n",
       "      <td>113.294</td>\n",
       "      <td>162.284</td>\n",
       "      <td>18.156</td>\n",
       "      <td>49971</td>\n",
       "      <td>33703</td>\n",
       "      <td>69054</td>\n",
       "      <td>18423</td>\n",
       "      <td>317.120</td>\n",
       "    </tr>\n",
       "    <tr>\n",
       "      <th>4</th>\n",
       "      <td>2</td>\n",
       "      <td>3</td>\n",
       "      <td>90.532</td>\n",
       "      <td>113.526</td>\n",
       "      <td>37.679</td>\n",
       "      <td>56.618</td>\n",
       "      <td>116.220</td>\n",
       "      <td>6.459</td>\n",
       "      <td>48534</td>\n",
       "      <td>19646</td>\n",
       "      <td>16411</td>\n",
       "      <td>20257</td>\n",
       "      <td>210.517</td>\n",
       "    </tr>\n",
       "  </tbody>\n",
       "</table>\n",
       "</div>"
      ],
      "text/plain": [
       "  fourth Day_of_the_week Non-urgent-order Urgent-order  OrderA   OrderB  \\\n",
       "0      1               4          316.307      223.270  61.543  175.586   \n",
       "1      1               5          128.633       96.042  38.058   56.037   \n",
       "2      1               6           43.651       84.375  21.826   25.125   \n",
       "3      2               2          171.297      127.667  41.542  113.294   \n",
       "4      2               3           90.532      113.526  37.679   56.618   \n",
       "\n",
       "    OrderC  Fiscal traffic-orders Banking-orders-1 Banking-orders-2  \\\n",
       "0  302.448       0          65556            44914           188411   \n",
       "1  130.580       0          40419            21399            89461   \n",
       "2   82.461   1.386          11992             3452            21305   \n",
       "3  162.284  18.156          49971            33703            69054   \n",
       "4  116.220   6.459          48534            19646            16411   \n",
       "\n",
       "  Banking-orders-3   target  \n",
       "0            14793  539.577  \n",
       "1             7679  224.675  \n",
       "2            14947  129.412  \n",
       "3            18423  317.120  \n",
       "4            20257  210.517  "
      ]
     },
     "execution_count": 5,
     "metadata": {},
     "output_type": "execute_result"
    }
   ],
   "source": [
    "data.head()"
   ]
  },
  {
   "cell_type": "code",
   "execution_count": 7,
   "metadata": {},
   "outputs": [
    {
     "data": {
      "text/plain": [
       "fourth              False\n",
       "Day_of_the_week     False\n",
       "Non-urgent-order    False\n",
       "Urgent-order        False\n",
       "OrderA              False\n",
       "OrderB              False\n",
       "OrderC              False\n",
       "Fiscal              False\n",
       "traffic-orders      False\n",
       "Banking-orders-1    False\n",
       "Banking-orders-2    False\n",
       "Banking-orders-3    False\n",
       "target              False\n",
       "dtype: bool"
      ]
     },
     "execution_count": 7,
     "metadata": {},
     "output_type": "execute_result"
    }
   ],
   "source": [
    "data.isnull().any()"
   ]
  },
  {
   "cell_type": "code",
   "execution_count": 8,
   "metadata": {},
   "outputs": [
    {
     "data": {
      "text/plain": [
       "fourth              0\n",
       "Day_of_the_week     0\n",
       "Non-urgent-order    0\n",
       "Urgent-order        0\n",
       "OrderA              0\n",
       "OrderB              0\n",
       "OrderC              0\n",
       "Fiscal              0\n",
       "traffic-orders      0\n",
       "Banking-orders-1    0\n",
       "Banking-orders-2    0\n",
       "Banking-orders-3    0\n",
       "target              0\n",
       "dtype: int64"
      ]
     },
     "execution_count": 8,
     "metadata": {},
     "output_type": "execute_result"
    }
   ],
   "source": [
    "data.isnull().sum()"
   ]
  },
  {
   "cell_type": "code",
   "execution_count": 9,
   "metadata": {},
   "outputs": [
    {
     "data": {
      "text/plain": [
       "fourth              object\n",
       "Day_of_the_week     object\n",
       "Non-urgent-order    object\n",
       "Urgent-order        object\n",
       "OrderA              object\n",
       "OrderB              object\n",
       "OrderC              object\n",
       "Fiscal              object\n",
       "traffic-orders      object\n",
       "Banking-orders-1    object\n",
       "Banking-orders-2    object\n",
       "Banking-orders-3    object\n",
       "target              object\n",
       "dtype: object"
      ]
     },
     "execution_count": 9,
     "metadata": {},
     "output_type": "execute_result"
    }
   ],
   "source": [
    "data.dtypes"
   ]
  },
  {
   "cell_type": "code",
   "execution_count": 11,
   "metadata": {},
   "outputs": [],
   "source": [
    "data = data.astype(float)"
   ]
  },
  {
   "cell_type": "code",
   "execution_count": 12,
   "metadata": {},
   "outputs": [
    {
     "data": {
      "text/plain": [
       "fourth              float64\n",
       "Day_of_the_week     float64\n",
       "Non-urgent-order    float64\n",
       "Urgent-order        float64\n",
       "OrderA              float64\n",
       "OrderB              float64\n",
       "OrderC              float64\n",
       "Fiscal              float64\n",
       "traffic-orders      float64\n",
       "Banking-orders-1    float64\n",
       "Banking-orders-2    float64\n",
       "Banking-orders-3    float64\n",
       "target              float64\n",
       "dtype: object"
      ]
     },
     "execution_count": 12,
     "metadata": {},
     "output_type": "execute_result"
    }
   ],
   "source": [
    "data.dtypes"
   ]
  },
  {
   "cell_type": "code",
   "execution_count": 14,
   "metadata": {},
   "outputs": [
    {
     "data": {
      "text/html": [
       "<div>\n",
       "<style scoped>\n",
       "    .dataframe tbody tr th:only-of-type {\n",
       "        vertical-align: middle;\n",
       "    }\n",
       "\n",
       "    .dataframe tbody tr th {\n",
       "        vertical-align: top;\n",
       "    }\n",
       "\n",
       "    .dataframe thead th {\n",
       "        text-align: right;\n",
       "    }\n",
       "</style>\n",
       "<table border=\"1\" class=\"dataframe\">\n",
       "  <thead>\n",
       "    <tr style=\"text-align: right;\">\n",
       "      <th></th>\n",
       "      <th>fourth</th>\n",
       "      <th>Day_of_the_week</th>\n",
       "      <th>Non-urgent-order</th>\n",
       "      <th>Urgent-order</th>\n",
       "      <th>OrderA</th>\n",
       "      <th>OrderB</th>\n",
       "      <th>OrderC</th>\n",
       "      <th>Fiscal</th>\n",
       "      <th>traffic-orders</th>\n",
       "      <th>Banking-orders-1</th>\n",
       "      <th>Banking-orders-2</th>\n",
       "      <th>Banking-orders-3</th>\n",
       "      <th>target</th>\n",
       "    </tr>\n",
       "  </thead>\n",
       "  <tbody>\n",
       "    <tr>\n",
       "      <th>0</th>\n",
       "      <td>1.0</td>\n",
       "      <td>4.0</td>\n",
       "      <td>316.307</td>\n",
       "      <td>223.270</td>\n",
       "      <td>61.543</td>\n",
       "      <td>175.586</td>\n",
       "      <td>302.448</td>\n",
       "      <td>0.000</td>\n",
       "      <td>65556.0</td>\n",
       "      <td>44914.0</td>\n",
       "      <td>188411.0</td>\n",
       "      <td>14793.0</td>\n",
       "      <td>539.577</td>\n",
       "    </tr>\n",
       "    <tr>\n",
       "      <th>1</th>\n",
       "      <td>1.0</td>\n",
       "      <td>5.0</td>\n",
       "      <td>128.633</td>\n",
       "      <td>96.042</td>\n",
       "      <td>38.058</td>\n",
       "      <td>56.037</td>\n",
       "      <td>130.580</td>\n",
       "      <td>0.000</td>\n",
       "      <td>40419.0</td>\n",
       "      <td>21399.0</td>\n",
       "      <td>89461.0</td>\n",
       "      <td>7679.0</td>\n",
       "      <td>224.675</td>\n",
       "    </tr>\n",
       "    <tr>\n",
       "      <th>2</th>\n",
       "      <td>1.0</td>\n",
       "      <td>6.0</td>\n",
       "      <td>43.651</td>\n",
       "      <td>84.375</td>\n",
       "      <td>21.826</td>\n",
       "      <td>25.125</td>\n",
       "      <td>82.461</td>\n",
       "      <td>1.386</td>\n",
       "      <td>11992.0</td>\n",
       "      <td>3452.0</td>\n",
       "      <td>21305.0</td>\n",
       "      <td>14947.0</td>\n",
       "      <td>129.412</td>\n",
       "    </tr>\n",
       "    <tr>\n",
       "      <th>3</th>\n",
       "      <td>2.0</td>\n",
       "      <td>2.0</td>\n",
       "      <td>171.297</td>\n",
       "      <td>127.667</td>\n",
       "      <td>41.542</td>\n",
       "      <td>113.294</td>\n",
       "      <td>162.284</td>\n",
       "      <td>18.156</td>\n",
       "      <td>49971.0</td>\n",
       "      <td>33703.0</td>\n",
       "      <td>69054.0</td>\n",
       "      <td>18423.0</td>\n",
       "      <td>317.120</td>\n",
       "    </tr>\n",
       "    <tr>\n",
       "      <th>4</th>\n",
       "      <td>2.0</td>\n",
       "      <td>3.0</td>\n",
       "      <td>90.532</td>\n",
       "      <td>113.526</td>\n",
       "      <td>37.679</td>\n",
       "      <td>56.618</td>\n",
       "      <td>116.220</td>\n",
       "      <td>6.459</td>\n",
       "      <td>48534.0</td>\n",
       "      <td>19646.0</td>\n",
       "      <td>16411.0</td>\n",
       "      <td>20257.0</td>\n",
       "      <td>210.517</td>\n",
       "    </tr>\n",
       "  </tbody>\n",
       "</table>\n",
       "</div>"
      ],
      "text/plain": [
       "   fourth  Day_of_the_week  Non-urgent-order  Urgent-order  OrderA   OrderB  \\\n",
       "0     1.0              4.0           316.307       223.270  61.543  175.586   \n",
       "1     1.0              5.0           128.633        96.042  38.058   56.037   \n",
       "2     1.0              6.0            43.651        84.375  21.826   25.125   \n",
       "3     2.0              2.0           171.297       127.667  41.542  113.294   \n",
       "4     2.0              3.0            90.532       113.526  37.679   56.618   \n",
       "\n",
       "    OrderC  Fiscal  traffic-orders  Banking-orders-1  Banking-orders-2  \\\n",
       "0  302.448   0.000         65556.0           44914.0          188411.0   \n",
       "1  130.580   0.000         40419.0           21399.0           89461.0   \n",
       "2   82.461   1.386         11992.0            3452.0           21305.0   \n",
       "3  162.284  18.156         49971.0           33703.0           69054.0   \n",
       "4  116.220   6.459         48534.0           19646.0           16411.0   \n",
       "\n",
       "   Banking-orders-3   target  \n",
       "0           14793.0  539.577  \n",
       "1            7679.0  224.675  \n",
       "2           14947.0  129.412  \n",
       "3           18423.0  317.120  \n",
       "4           20257.0  210.517  "
      ]
     },
     "execution_count": 14,
     "metadata": {},
     "output_type": "execute_result"
    }
   ],
   "source": [
    "data.head()"
   ]
  },
  {
   "cell_type": "code",
   "execution_count": null,
   "metadata": {},
   "outputs": [],
   "source": [
    "Data Set Information:\n",
    "\n",
    "The database was collected during 60 days, this is a real database of a Brazilian company of large logistics.\n",
    "Twelve predictive attributes and a target that is the total of orders for daily. treatment\n",
    "\n",
    "*columns:\n",
    "    \n",
    "fourth or fifth week;\n",
    "Day of the week (Monday to Friday);\n",
    "Non-urgent order;\n",
    "Urgent order;\n",
    "Order type A;\n",
    "Order type B;\n",
    "Order type C;\n",
    "Fiscal sector orders;\n",
    "Orders from the traffic controller sector;\n",
    "Banking orders (1);\n",
    "Banking orders (2);\n",
    "Banking orders (3);\n",
    "Target (Total orders)"
   ]
  },
  {
   "cell_type": "code",
   "execution_count": 15,
   "metadata": {},
   "outputs": [],
   "source": [
    "def aumentarDimension(dataframe):\n",
    "    return dataframe.values.reshape(dataframe.shape[0],dataframe.shape[1],1)"
   ]
  },
  {
   "cell_type": "code",
   "execution_count": 17,
   "metadata": {},
   "outputs": [
    {
     "data": {
      "text/plain": [
       "(60, 13, 1)"
      ]
     },
     "execution_count": 17,
     "metadata": {},
     "output_type": "execute_result"
    }
   ],
   "source": [
    "dataT=aumentarDimension(data)\n",
    "dataT.shape"
   ]
  }
 ],
 "metadata": {
  "kernelspec": {
   "display_name": "Python 3",
   "language": "python",
   "name": "python3"
  },
  "language_info": {
   "codemirror_mode": {
    "name": "ipython",
    "version": 3
   },
   "file_extension": ".py",
   "mimetype": "text/x-python",
   "name": "python",
   "nbconvert_exporter": "python",
   "pygments_lexer": "ipython3",
   "version": "3.7.7"
  }
 },
 "nbformat": 4,
 "nbformat_minor": 4
}
